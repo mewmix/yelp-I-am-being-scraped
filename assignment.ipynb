{
 "cells": [
  {
   "cell_type": "markdown",
   "metadata": {},
   "source": [
    "### Note\n",
    "\n",
    "I got banned from accessing any yelp pages since I was trying the web scrape the first 500 pages (5000 businesses) from the yelp website. Therefore, I only have access to the first few and they have been added to the resulting csv file.\n",
    "\n",
    "This is because it is against yelp's policy to web scrape their pages, according to https://www.yelp-support.com/article/Can-I-copy-or-scrape-data-from-the-Yelp-site?l=en_US.\n",
    "\n",
    "The data will be short but can easily be increased to get the data of all businesses.\n",
    "\n"
   ]
  },
  {
   "cell_type": "code",
   "execution_count": 1,
   "metadata": {},
   "outputs": [],
   "source": [
    "#import beautiful soup and requests libraries required for web-scraping\n",
    "from bs4 import BeautifulSoup\n",
    "import requests"
   ]
  },
  {
   "cell_type": "code",
   "execution_count": 2,
   "metadata": {},
   "outputs": [
    {
     "name": "stdout",
     "output_type": "stream",
     "text": [
      "--------Getting URLs---------\n",
      "Done.\n",
      "\n",
      "--------Getting page contents---------\n",
      "Done.\n",
      "\n",
      "--------Setting up beautiful soup ---------\n",
      "Done.\n",
      "\n"
     ]
    }
   ],
   "source": [
    "#yelp url to access all businesses in los angeles\n",
    "print('--------Getting URLs---------')\n",
    "URL = ['https://www.yelp.com/search?find_desc=&find_loc=Los%20Angeles%2C%20CA&ns=1&start={}'.format(i*10) for i in range(20)]\n",
    "print('Done.', end='\\n\\n')\n",
    "\n",
    "#get the html content of all the pages in the url array\n",
    "print('--------Getting page contents---------')\n",
    "pages = [requests.get(url) for url in URL]\n",
    "print('Done.', end='\\n\\n')\n",
    "\n",
    "#set up beautiful soup objects to later analyse the pages\n",
    "print('--------Setting up beautiful soup ---------')\n",
    "soups = [BeautifulSoup(page.content, 'html.parser') for page in pages]\n",
    "print('Done.', end='\\n\\n')"
   ]
  },
  {
   "cell_type": "code",
   "execution_count": 3,
   "metadata": {},
   "outputs": [],
   "source": [
    "#get all restaurant divs in each page\n",
    "#each business is displayed on the page with the following class. This finds and gets the content of all the divs with the following class name\n",
    "business_pages = [soup.find_all(\"div\", {\"class\": \"lemon--div__373c0__1mboc container__373c0__3HMKB hoverable__373c0__VqkG7 margin-t3__373c0__1l90z margin-b3__373c0__q1DuY padding-t3__373c0__1gw9E padding-r3__373c0__57InZ padding-b3__373c0__342DA padding-l3__373c0__1scQ0 border--top__373c0__3gXLy border--right__373c0__1n3Iv border--bottom__373c0__3qNtD border--left__373c0__d1B7K border-color--default__373c0__3-ifU\"}) for soup in soups]\n"
   ]
  },
  {
   "cell_type": "code",
   "execution_count": 4,
   "metadata": {},
   "outputs": [],
   "source": [
    "#class to store and obtain information about a bussiness\n",
    "class Business:\n",
    "    #to initialize the class with the business' HTML content that we later analyze in the methods\n",
    "    def __init__(self, HTML):\n",
    "        self.HTML = HTML\n",
    "        \n",
    "    #within each business div, the name is present in the text field of the following <a> tag\n",
    "    def name(self):\n",
    "        name = self.HTML.find('a', {\"class\": \"lemon--a__373c0__IEZFH link__373c0__1G70M link-color--inherit__373c0__3dzpk link-size--inherit__373c0__1VFlE\"}).text\n",
    "        \n",
    "        return name\n",
    "    \n",
    "    #the rating is displayed in terms of stars but the <span> tag contains the stars in the form of \"## star rating\"\n",
    "    def rating(self):\n",
    "        \n",
    "        rating = self.HTML.find('div',{\"class\": \"lemon--div__373c0__1mboc display--inline-block__373c0__1ZKqC border-color--default__373c0__3-ifU\"})\n",
    "        rating = rating.find('span').find('div').get('aria-label')\n",
    "        rating = rating.replace(' star rating', '')\n",
    "        \n",
    "        return rating\n",
    "    \n",
    "    #the price is displayed within the business div in the form of $$ signs\n",
    "    def price(self):\n",
    "        \n",
    "        price = self.HTML.find('div',{\"class\": \"lemon--div__373c0__1mboc priceCategory__373c0__3zW0R display--inline-block__373c0__1ZKqC border-color--default__373c0__3-ifU\"})\n",
    "        price = price.find('span').find('span')\n",
    "        price = price.text\n",
    "        \n",
    "        return price\n",
    "    \n",
    "    def num_reviews(self):\n",
    "        \n",
    "        reviews = self.HTML.find('div', {'class': \"lemon--div__373c0__1mboc attribute__373c0__1hPI_ display--inline-block__373c0__1ZKqC border-color--default__373c0__3-ifU\"})\n",
    "        \n",
    "        reviews = reviews.find('span').text\n",
    "        \n",
    "        return reviews\n",
    "        \n",
    "    #keywords related to the business are displayed in a series with the same <span> tag and corresponding class name\n",
    "    #this function get all those span tags and gets the keyword from them\n",
    "    def keywords(self):\n",
    "        \n",
    "        keywords = self.HTML.find('div', {'class': 'lemon--div__373c0__1mboc priceCategory__373c0__3zW0R display--inline-block__373c0__1ZKqC border-color--default__373c0__3-ifU'})\n",
    "\n",
    "        keywords = keywords.find_all('span', {'class': 'lemon--span__373c0__3997G display--inline__373c0__3JqBP border-color--default__373c0__3-ifU'})[1]\n",
    "        #keywords here contains all the span tags that contain the keywords\n",
    "        keys = []\n",
    "        \n",
    "        for i in range(len(keywords)):    #get the keywords from each span tag\n",
    "            k = keywords.find_all('span', {'class': 'lemon--span__373c0__3997G text__373c0__2Kxyz text-color--black-extra-light__373c0__2OyzO text-align--left__373c0__2XGa-'})[i]\n",
    "            keys += [k.text.replace(', ', '')]\n",
    "        \n",
    "        return keys\n",
    "            \n",
    "    #get the business' contact number\n",
    "    def number(self):\n",
    "        \n",
    "        number = self.HTML.find('p',{\"class\": \"lemon--p__373c0__3Qnnj text__373c0__2Kxyz text-color--black-extra-light__373c0__2OyzO text-align--right__373c0__1f0KI text-size--small__373c0__3NVWO\"})\n",
    "        \n",
    "        return number.text\n",
    "    \n",
    "    #get the address of the business displayed\n",
    "    def address(self):\n",
    "        \n",
    "        #ignore the first one as the first p tag in the HTML contains the phone number that we already obtained\n",
    "        address = self.HTML.find_all('p', {'class': 'lemon--p__373c0__3Qnnj text__373c0__2Kxyz text-color--black-extra-light__373c0__2OyzO text-align--right__373c0__1f0KI text-size--small__373c0__3NVWO'})[1:]\n",
    "        \n",
    "        #for each line of address found, get the text field\n",
    "        address = [ad.text for ad in address]\n",
    "        \n",
    "        #join all the lines of addresses (separated by ; instead of , since outputting to a csv file)\n",
    "        address = '; '.join(address)\n",
    "        \n",
    "        return address\n",
    "        "
   ]
  },
  {
   "cell_type": "code",
   "execution_count": 5,
   "metadata": {},
   "outputs": [
    {
     "data": {
      "text/plain": [
       "71"
      ]
     },
     "execution_count": 5,
     "metadata": {},
     "output_type": "execute_result"
    }
   ],
   "source": [
    "f = open(\"businesses.csv\", \"w\")    #open a csv file to write the data\n",
    "\n",
    "#header for the name of the columns in the csv file\n",
    "header = \"Name, Rating, Price, Number of Reviews, Keywords, Phone Number, Address\"\n",
    "\n",
    "#write header as the first row of the file\n",
    "f.write(header)"
   ]
  },
  {
   "cell_type": "code",
   "execution_count": 6,
   "metadata": {},
   "outputs": [],
   "source": [
    "#for each page in the pages with businesses listed\n",
    "for page in business_pages:\n",
    "    #for each business within the page\n",
    "    for business in page:\n",
    "        #initialize the object with the HTML content of each business\n",
    "        business = Business(business)\n",
    "        \n",
    "        #the try-except blocks help prevent errors related to some missing information on the website\n",
    "        #this arises empty fields in the csv files corresponding to missing information\n",
    "        try:\n",
    "            name = business.name()\n",
    "        except:\n",
    "            name = \"\"\n",
    "        try:\n",
    "            rating = business.rating()\n",
    "        except:\n",
    "            rating = \"\"\n",
    "        try:\n",
    "            price = business.price()\n",
    "        except:\n",
    "            price = \"\"\n",
    "        try:\n",
    "            num_reviews = business.num_reviews()\n",
    "        except:\n",
    "            num_reviews = \"\"\n",
    "        try:\n",
    "            keywords = business.keywords()\n",
    "        except:\n",
    "            keywords = \"\"\n",
    "        try:\n",
    "            number = business.number()\n",
    "        except:\n",
    "            number = \"\"\n",
    "        try:\n",
    "            address = business.address()\n",
    "        except:\n",
    "            address = \"\"\n",
    "            \n",
    "        #write all the contents found in a new line in the csv file\n",
    "        f.write('\\n' + name + ',' + rating + ',' + price + ',' + num_reviews + ',' + str(keywords).replace(',', ';') + ',' + number + ',' + address)\n",
    "\n",
    "#close the previously opened file\n",
    "f.close()"
   ]
  }
 ],
 "metadata": {
  "kernelspec": {
   "display_name": "Python 3",
   "language": "python",
   "name": "python3"
  },
  "language_info": {
   "codemirror_mode": {
    "name": "ipython",
    "version": 3
   },
   "file_extension": ".py",
   "mimetype": "text/x-python",
   "name": "python",
   "nbconvert_exporter": "python",
   "pygments_lexer": "ipython3",
   "version": "3.7.4"
  }
 },
 "nbformat": 4,
 "nbformat_minor": 2
}
